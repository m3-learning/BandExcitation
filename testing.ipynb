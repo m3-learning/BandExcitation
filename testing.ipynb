{
 "cells": [
  {
   "cell_type": "code",
   "execution_count": 1,
   "metadata": {},
   "outputs": [],
   "source": [
    "from src.BandExcitation.Measurement.NI import FunctionGenerator"
   ]
  },
  {
   "cell_type": "code",
   "execution_count": 3,
   "metadata": {},
   "outputs": [
    {
     "ename": "DriverError",
     "evalue": "-1074134944: IVI: Insufficient location information or resource not present in the system.\n\nInvalid Identifier: Dev",
     "output_type": "error",
     "traceback": [
      "\u001b[1;31m---------------------------------------------------------------------------\u001b[0m",
      "\u001b[1;31mDriverError\u001b[0m                               Traceback (most recent call last)",
      "\u001b[1;32mc:\\Users\\jca92\\Documents\\codes\\BandExcitation\\testing.ipynb Cell 2\u001b[0m in \u001b[0;36m<cell line: 1>\u001b[1;34m()\u001b[0m\n\u001b[1;32m----> <a href='vscode-notebook-cell:/c%3A/Users/jca92/Documents/codes/BandExcitation/testing.ipynb#W1sZmlsZQ%3D%3D?line=0'>1</a>\u001b[0m FunctionGenerator(resource_name\u001b[39m=\u001b[39;49m\u001b[39m\"\u001b[39;49m\u001b[39mDev\u001b[39;49m\u001b[39m\"\u001b[39;49m, options\u001b[39m=\u001b[39;49m{\u001b[39m\"\u001b[39;49m\u001b[39msimulate\u001b[39;49m\u001b[39m\"\u001b[39;49m: \u001b[39mTrue\u001b[39;49;00m})\n",
      "File \u001b[1;32mc:\\Users\\jca92\\Documents\\codes\\BandExcitation\\src\\BandExcitation\\Measurement\\NI.py:11\u001b[0m, in \u001b[0;36mFunctionGenerator.__init__\u001b[1;34m(self, resource_name, platform, **kwargs)\u001b[0m\n\u001b[0;32m      9\u001b[0m \u001b[39mdef\u001b[39;00m \u001b[39m__init__\u001b[39m(\u001b[39mself\u001b[39m, resource_name, platform\u001b[39m=\u001b[39m\u001b[39m\"\u001b[39m\u001b[39mPXI-5413\u001b[39m\u001b[39m\"\u001b[39m, \u001b[39m*\u001b[39m\u001b[39m*\u001b[39mkwargs) \u001b[39m-\u001b[39m\u001b[39m>\u001b[39m \u001b[39mNone\u001b[39;00m:\n\u001b[1;32m---> 11\u001b[0m     \u001b[39msuper\u001b[39m()\u001b[39m.\u001b[39m\u001b[39m__init__\u001b[39m(resource_name\u001b[39m=\u001b[39mresource_name, \u001b[39m*\u001b[39m\u001b[39m*\u001b[39mkwargs)\n\u001b[0;32m     13\u001b[0m     \u001b[39mself\u001b[39m\u001b[39m.\u001b[39mplatform \u001b[39m=\u001b[39m platform\n\u001b[0;32m     15\u001b[0m     \u001b[39m# makes sure the session is aborted from previous runs\u001b[39;00m\n",
      "File \u001b[1;32mc:\\Users\\jca92\\.conda\\envs\\memex\\lib\\site-packages\\nifgen\\session.py:3107\u001b[0m, in \u001b[0;36mSession.__init__\u001b[1;34m(self, resource_name, channel_name, reset_device, options, grpc_options)\u001b[0m\n\u001b[0;32m   3100\u001b[0m options \u001b[39m=\u001b[39m _converters\u001b[39m.\u001b[39mconvert_init_with_options_dictionary(options)\n\u001b[0;32m   3102\u001b[0m \u001b[39m# Call specified init function\u001b[39;00m\n\u001b[0;32m   3103\u001b[0m \u001b[39m# Note that _interpreter default-initializes the session handle in its constructor, so that\u001b[39;00m\n\u001b[0;32m   3104\u001b[0m \u001b[39m# if _initialize_with_channels fails, the error handler can reference it.\u001b[39;00m\n\u001b[0;32m   3105\u001b[0m \u001b[39m# And then here, once _initialize_with_channels succeeds, we call set_session_handle\u001b[39;00m\n\u001b[0;32m   3106\u001b[0m \u001b[39m# with the actual session handle.\u001b[39;00m\n\u001b[1;32m-> 3107\u001b[0m \u001b[39mself\u001b[39m\u001b[39m.\u001b[39m_interpreter\u001b[39m.\u001b[39mset_session_handle(\u001b[39mself\u001b[39;49m\u001b[39m.\u001b[39;49m_initialize_with_channels(resource_name, channel_name, reset_device, options))\n\u001b[0;32m   3109\u001b[0m \u001b[39m# NI-TClk does not work over NI gRPC Device Server\u001b[39;00m\n\u001b[0;32m   3110\u001b[0m \u001b[39mif\u001b[39;00m \u001b[39mnot\u001b[39;00m grpc_options:\n",
      "File \u001b[1;32mc:\\Users\\jca92\\.conda\\envs\\memex\\lib\\site-packages\\nifgen\\session.py:4028\u001b[0m, in \u001b[0;36mSession._initialize_with_channels\u001b[1;34m(self, resource_name, channel_name, reset_device, option_string)\u001b[0m\n\u001b[0;32m   4026\u001b[0m channel_name \u001b[39m=\u001b[39m _converters\u001b[39m.\u001b[39mconvert_repeated_capabilities_without_prefix(channel_name)\n\u001b[0;32m   4027\u001b[0m option_string \u001b[39m=\u001b[39m _converters\u001b[39m.\u001b[39mconvert_init_with_options_dictionary(option_string)\n\u001b[1;32m-> 4028\u001b[0m vi \u001b[39m=\u001b[39m \u001b[39mself\u001b[39;49m\u001b[39m.\u001b[39;49m_interpreter\u001b[39m.\u001b[39;49minitialize_with_channels(resource_name, channel_name, reset_device, option_string)\n\u001b[0;32m   4029\u001b[0m \u001b[39mreturn\u001b[39;00m vi\n",
      "File \u001b[1;32mc:\\Users\\jca92\\.conda\\envs\\memex\\lib\\site-packages\\nifgen\\_library_interpreter.py:505\u001b[0m, in \u001b[0;36mLibraryInterpreter.initialize_with_channels\u001b[1;34m(self, resource_name, channel_name, reset_device, option_string)\u001b[0m\n\u001b[0;32m    503\u001b[0m vi_ctype \u001b[39m=\u001b[39m _visatype\u001b[39m.\u001b[39mViSession()  \u001b[39m# case S220\u001b[39;00m\n\u001b[0;32m    504\u001b[0m error_code \u001b[39m=\u001b[39m \u001b[39mself\u001b[39m\u001b[39m.\u001b[39m_library\u001b[39m.\u001b[39mniFgen_InitializeWithChannels(resource_name_ctype, channel_name_ctype, reset_device_ctype, option_string_ctype, \u001b[39mNone\u001b[39;00m \u001b[39mif\u001b[39;00m vi_ctype \u001b[39mis\u001b[39;00m \u001b[39mNone\u001b[39;00m \u001b[39melse\u001b[39;00m (ctypes\u001b[39m.\u001b[39mpointer(vi_ctype)))\n\u001b[1;32m--> 505\u001b[0m errors\u001b[39m.\u001b[39;49mhandle_error(\u001b[39mself\u001b[39;49m, error_code, ignore_warnings\u001b[39m=\u001b[39;49m\u001b[39mFalse\u001b[39;49;00m, is_error_handling\u001b[39m=\u001b[39;49m\u001b[39mFalse\u001b[39;49;00m)\n\u001b[0;32m    506\u001b[0m \u001b[39mself\u001b[39m\u001b[39m.\u001b[39m_close_on_exit \u001b[39m=\u001b[39m \u001b[39mTrue\u001b[39;00m\n\u001b[0;32m    507\u001b[0m \u001b[39mreturn\u001b[39;00m \u001b[39mint\u001b[39m(vi_ctype\u001b[39m.\u001b[39mvalue)\n",
      "File \u001b[1;32mc:\\Users\\jca92\\.conda\\envs\\memex\\lib\\site-packages\\nifgen\\errors.py:123\u001b[0m, in \u001b[0;36mhandle_error\u001b[1;34m(library_interpreter, code, ignore_warnings, is_error_handling)\u001b[0m\n\u001b[0;32m    120\u001b[0m     description \u001b[39m=\u001b[39m library_interpreter\u001b[39m.\u001b[39mget_error_description(code)\n\u001b[0;32m    122\u001b[0m \u001b[39mif\u001b[39;00m _is_error(code):\n\u001b[1;32m--> 123\u001b[0m     \u001b[39mraise\u001b[39;00m DriverError(code, description)\n\u001b[0;32m    125\u001b[0m \u001b[39massert\u001b[39;00m _is_warning(code)\n\u001b[0;32m    126\u001b[0m warnings\u001b[39m.\u001b[39mwarn(DriverWarning(code, description))\n",
      "\u001b[1;31mDriverError\u001b[0m: -1074134944: IVI: Insufficient location information or resource not present in the system.\n\nInvalid Identifier: Dev"
     ]
    }
   ],
   "source": [
    "FunctionGenerator(resource_name=\"Dev\", options={\"simulate\": True})"
   ]
  },
  {
   "cell_type": "code",
   "execution_count": 2,
   "metadata": {},
   "outputs": [
    {
     "data": {
      "text/plain": [
       "40"
      ]
     },
     "execution_count": 2,
     "metadata": {},
     "output_type": "execute_result"
    }
   ],
   "source": [
    "import numpy as np\n",
    "np.sum((20,20))"
   ]
  },
  {
   "cell_type": "code",
   "execution_count": null,
   "metadata": {},
   "outputs": [],
   "source": []
  }
 ],
 "metadata": {
  "kernelspec": {
   "display_name": "memex",
   "language": "python",
   "name": "python3"
  },
  "language_info": {
   "codemirror_mode": {
    "name": "ipython",
    "version": 3
   },
   "file_extension": ".py",
   "mimetype": "text/x-python",
   "name": "python",
   "nbconvert_exporter": "python",
   "pygments_lexer": "ipython3",
   "version": "3.10.0"
  },
  "orig_nbformat": 4
 },
 "nbformat": 4,
 "nbformat_minor": 2
}
